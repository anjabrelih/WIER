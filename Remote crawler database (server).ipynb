{
 "cells": [
  {
   "cell_type": "markdown",
   "id": "sonic-frontier",
   "metadata": {},
   "source": [
    "## Remote crawler database (server)\n",
    "\n",
    "### System initialization\n",
    "\n",
    "In this tutorial we re-use PostgreSQL database Docker image we have presented in *Web crawling - basic tools* notebook. Prior to running the example, set up the database server.\n",
    "\n",
    "\n",
    "### Database access logic\n",
    "\n",
    "We use the same functions *increase_db_values* and *increase_db_values_locking* that can be accessed securely over the internet as in local example from *Web crawling - basic tools* notebook. We just ommit the increases parameter as client will call the method multiple times."
   ]
  },
  {
   "cell_type": "code",
   "execution_count": null,
   "id": "democratic-pollution",
   "metadata": {},
   "outputs": [],
   "source": [
    "import threading\n",
    "import psycopg2\n",
    "\n",
    "lock = threading.Lock()\n",
    "\n",
    "def reset_db_values():\n",
    "    conn = psycopg2.connect(host=\"localhost\", user=\"user\", password=\"SecretPassword\")\n",
    "    conn.autocommit = True\n",
    "    \n",
    "    cur = conn.cursor()\n",
    "    cur.execute(\"UPDATE showcase.counters SET value = 0\")\n",
    "    \n",
    "    cur.close()\n",
    "    conn.close()\n",
    "    \n",
    "def print_db_values():\n",
    "    conn = psycopg2.connect(host=\"localhost\", user=\"user\", password=\"SecretPassword\")\n",
    "    conn.autocommit = True\n",
    "\n",
    "    retVal = []\n",
    "    print(\"\\nValues in the database:\")\n",
    "    cur = conn.cursor()\n",
    "    cur.execute(\"SELECT counter_id, value FROM showcase.counters ORDER BY counter_id\")\n",
    "    for counter_id, value in cur.fetchall():\n",
    "        print(f\"\\tCounter id: {counter_id}, value: {value}\")\n",
    "        retVal.append({counter_id: value})\n",
    "    cur.close()\n",
    "    conn.close()\n",
    "    return retVal\n",
    "\n",
    "def increase_db_values(counter_id):\n",
    "    conn = psycopg2.connect(host=\"localhost\", user=\"user\", password=\"SecretPassword\")\n",
    "    conn.autocommit = True\n",
    "    \n",
    "    cur = conn.cursor()\n",
    "    cur.execute(\"SELECT value FROM showcase.counters WHERE counter_id = %s\", \\\n",
    "                (counter_id,))\n",
    "    value = cur.fetchone()[0]\n",
    "    cur.execute(\"UPDATE showcase.counters SET value = %s WHERE counter_id = %s\", \\\n",
    "                (value+1, counter_id))\n",
    "    cur.close()\n",
    "    conn.close()\n",
    "    \n",
    "def increase_db_values_locking(counter_id):\n",
    "    conn = psycopg2.connect(host=\"localhost\", user=\"user\", password=\"SecretPassword\")\n",
    "    conn.autocommit = True\n",
    "\n",
    "    with lock:\n",
    "        cur = conn.cursor()\n",
    "        cur.execute(\"SELECT value FROM showcase.counters WHERE counter_id = %s\", \\\n",
    "                    (counter_id,))\n",
    "        value = cur.fetchone()[0]\n",
    "        cur.execute(\"UPDATE showcase.counters SET value = %s WHERE counter_id = %s\", \\\n",
    "                    (value+1, counter_id))\n",
    "        cur.close()\n",
    "    conn.close()"
   ]
  },
  {
   "cell_type": "markdown",
   "id": "alike-today",
   "metadata": {},
   "source": [
    "### Server implementation\n",
    "\n",
    "As it is not secure to open the database directly to the internet and you would like to have *centralized* control of the statements that are issued against the database we will implement a RESTful service to access the database. "
   ]
  },
  {
   "cell_type": "code",
   "execution_count": null,
   "id": "departmental-oxford",
   "metadata": {},
   "outputs": [],
   "source": [
    "from flask import Flask\n",
    "from flask import jsonify\n",
    "from flask_httpauth import HTTPBasicAuth\n",
    "\n",
    "app = Flask(__name__)"
   ]
  },
  {
   "cell_type": "markdown",
   "id": "working-steam",
   "metadata": {},
   "source": [
    "It is important to provide some authentication mechanism to protect your server endpoints so that only users with credentials are allowed to use them. \n",
    "\n",
    "We will just use a basic HTTP Authentication mechanism. The *verify_password* method will checke whether a user is in the database and return it as an object (just username in our case). If the user does not exist, the method returns *None.* The user object is then further accessible using method `basic_auth.current_user()`.\n",
    "\n",
    "Methods we would like to protect need to be decorated using `@basic_auth.login_required`, otherwise *error_handler* method will be called."
   ]
  },
  {
   "cell_type": "code",
   "execution_count": null,
   "id": "geographic-issue",
   "metadata": {},
   "outputs": [],
   "source": [
    "basic_auth = HTTPBasicAuth()\n",
    "\n",
    "@basic_auth.verify_password\n",
    "def verify_password(username, password):\n",
    "    if password == \"BestNonencryptedPasswordEver!!!\":\n",
    "        return username\n",
    "    else:\n",
    "        return None\n",
    "\n",
    "@basic_auth.error_handler\n",
    "def basic_auth_error(status):\n",
    "    return jsonify({\"success\": False, \"message\": \"Wrong credentials!\"}), status"
   ]
  },
  {
   "cell_type": "markdown",
   "id": "empirical-perception",
   "metadata": {},
   "source": [
    "It is nice to provide automatic mechanisms to return specific responses in case an error happens. Let's take care of 404 and 500 errors."
   ]
  },
  {
   "cell_type": "code",
   "execution_count": null,
   "id": "sonic-concept",
   "metadata": {},
   "outputs": [],
   "source": [
    "@app.errorhandler(404)\n",
    "def not_found_error(error):\n",
    "    return jsonify({\"success\": False, \"message\": \"Object not found!\"}), 404\n",
    "\n",
    "@app.errorhandler(500)\n",
    "def internal_error(error):\n",
    "    # rollback db if using transactions\n",
    "    return jsonify({\"success\": False, \"message\": \"Server error!\"}), 500"
   ]
  },
  {
   "cell_type": "markdown",
   "id": "angry-hobby",
   "metadata": {},
   "source": [
    "The most important part is to provide REST endpoints that will be accessible to the clients."
   ]
  },
  {
   "cell_type": "code",
   "execution_count": null,
   "id": "recreational-lightning",
   "metadata": {},
   "outputs": [],
   "source": [
    "@app.route('/db/reset', methods=['POST'])\n",
    "@basic_auth.login_required\n",
    "def fl_restart():\n",
    "    reset_db_values()\n",
    "    return jsonify({\"success\": True})\n",
    "\n",
    "@app.route('/db/get_values', methods=['GET'])\n",
    "@basic_auth.login_required\n",
    "def fl_get_values():\n",
    "    retVal = print_db_values()\n",
    "    return jsonify(retVal)\n",
    "    \n",
    "@app.route('/db/increase/<int:id>', methods=['POST'])\n",
    "@basic_auth.login_required\n",
    "def fl_inc_vals(id):\n",
    "    increase_db_values(id)\n",
    "    return jsonify({\"success\": True})\n",
    "\n",
    "@app.route('/db/increase_locking/<int:id>', methods=['POST'])\n",
    "@basic_auth.login_required\n",
    "def fl_inc_vals_lock(id):\n",
    "    increase_db_values_locking(id)\n",
    "    return jsonify({\"success\": True})"
   ]
  },
  {
   "cell_type": "markdown",
   "id": "later-sheriff",
   "metadata": {},
   "source": [
    "Lastly we instantiate the server.\n",
    "\n",
    "We should protect the server behind an SSL proxy or provide our own mechanisms to encrypt connections, otherwise anyone can intercept and check our messages. We use an automatically generated SSL certificate by the *Flask* library (good enough for the seminar work)."
   ]
  },
  {
   "cell_type": "code",
   "execution_count": null,
   "id": "direct-boost",
   "metadata": {},
   "outputs": [],
   "source": [
    "if __name__ == \"__main__\":\n",
    "    app.run(ssl_context='adhoc')"
   ]
  },
  {
   "cell_type": "markdown",
   "id": "confident-stress",
   "metadata": {},
   "source": [
    "Try to access the endpoint using your browser."
   ]
  }
 ],
 "metadata": {
  "kernelspec": {
   "display_name": "Python [conda env:wier] *",
   "language": "python",
   "name": "conda-env-wier-py"
  },
  "language_info": {
   "codemirror_mode": {
    "name": "ipython",
    "version": 3
   },
   "file_extension": ".py",
   "mimetype": "text/x-python",
   "name": "python",
   "nbconvert_exporter": "python",
   "pygments_lexer": "ipython3",
   "version": "3.6.12"
  }
 },
 "nbformat": 4,
 "nbformat_minor": 5
}
